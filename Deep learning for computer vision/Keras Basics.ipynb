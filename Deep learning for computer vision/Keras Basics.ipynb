{
 "cells": [
  {
   "cell_type": "code",
   "execution_count": 1,
   "id": "878b40ce-ad07-4bea-ab7b-4d193f944b07",
   "metadata": {
    "tags": []
   },
   "outputs": [],
   "source": [
    "import numpy as np\n",
    "from numpy import genfromtxt #metin dosyasından dizi oluşturur."
   ]
  },
  {
   "cell_type": "code",
   "execution_count": 5,
   "id": "11af7e4d-3bd6-4b19-adea-38aa48f24874",
   "metadata": {
    "tags": []
   },
   "outputs": [],
   "source": [
    "data = genfromtxt('bank_note_data.txt', delimiter=',')"
   ]
  },
  {
   "cell_type": "code",
   "execution_count": 6,
   "id": "cb7f2802-d738-4a80-bcc8-ef20b28eccb6",
   "metadata": {
    "tags": []
   },
   "outputs": [
    {
     "data": {
      "text/plain": [
       "array([[  3.6216 ,   8.6661 ,  -2.8073 ,  -0.44699,   0.     ],\n",
       "       [  4.5459 ,   8.1674 ,  -2.4586 ,  -1.4621 ,   0.     ],\n",
       "       [  3.866  ,  -2.6383 ,   1.9242 ,   0.10645,   0.     ],\n",
       "       ...,\n",
       "       [ -3.7503 , -13.4586 ,  17.5932 ,  -2.7771 ,   1.     ],\n",
       "       [ -3.5637 ,  -8.3827 ,  12.393  ,  -1.2823 ,   1.     ],\n",
       "       [ -2.5419 ,  -0.65804,   2.6842 ,   1.1952 ,   1.     ]])"
      ]
     },
     "execution_count": 6,
     "metadata": {},
     "output_type": "execute_result"
    }
   ],
   "source": [
    "data"
   ]
  },
  {
   "cell_type": "code",
   "execution_count": 8,
   "id": "03cbb9a2-b304-4897-8c5d-67a8a60fcc3a",
   "metadata": {
    "tags": []
   },
   "outputs": [
    {
     "data": {
      "text/plain": [
       "array([0., 0., 0., ..., 1., 1., 1.])"
      ]
     },
     "execution_count": 8,
     "metadata": {},
     "output_type": "execute_result"
    }
   ],
   "source": [
    "labels = data[:,4]\n",
    "labels"
   ]
  },
  {
   "cell_type": "code",
   "execution_count": 11,
   "id": "532ce47c-f928-4419-9d60-5fd6f5799b8c",
   "metadata": {
    "tags": []
   },
   "outputs": [
    {
     "data": {
      "text/plain": [
       "array([[  3.6216 ,   8.6661 ,  -2.8073 ,  -0.44699],\n",
       "       [  4.5459 ,   8.1674 ,  -2.4586 ,  -1.4621 ],\n",
       "       [  3.866  ,  -2.6383 ,   1.9242 ,   0.10645],\n",
       "       ...,\n",
       "       [ -3.7503 , -13.4586 ,  17.5932 ,  -2.7771 ],\n",
       "       [ -3.5637 ,  -8.3827 ,  12.393  ,  -1.2823 ],\n",
       "       [ -2.5419 ,  -0.65804,   2.6842 ,   1.1952 ]])"
      ]
     },
     "execution_count": 11,
     "metadata": {},
     "output_type": "execute_result"
    }
   ],
   "source": [
    "features = data[:,:4]\n",
    "features"
   ]
  },
  {
   "cell_type": "code",
   "execution_count": 12,
   "id": "91dc0d26-c5c0-435a-bf8e-110fb7041e0b",
   "metadata": {
    "tags": []
   },
   "outputs": [],
   "source": [
    "X = features\n",
    "y = labels"
   ]
  },
  {
   "cell_type": "code",
   "execution_count": 13,
   "id": "a84d9843-1612-4300-b156-83c53e91263c",
   "metadata": {
    "tags": []
   },
   "outputs": [],
   "source": [
    "from sklearn.model_selection import train_test_split"
   ]
  },
  {
   "cell_type": "code",
   "execution_count": 14,
   "id": "a31e6ebd-430f-4d7d-8f93-1219c3b114d6",
   "metadata": {
    "tags": []
   },
   "outputs": [],
   "source": [
    "X_train, X_test, y_train, y_test = train_test_split(X, y, test_size=0.33, random_state=42)"
   ]
  },
  {
   "cell_type": "code",
   "execution_count": 16,
   "id": "8feacd69-8f48-409b-a6f1-552a051f5a80",
   "metadata": {
    "tags": []
   },
   "outputs": [],
   "source": [
    "from sklearn.preprocessing import MinMaxScaler"
   ]
  },
  {
   "cell_type": "code",
   "execution_count": 30,
   "id": "e86320a5-4085-49c5-b95b-0327b2b01416",
   "metadata": {
    "tags": []
   },
   "outputs": [],
   "source": [
    "scaler_object = MinMaxScaler()\n",
    "scaler_object.fit(X_train)\n",
    "scaled_X_train = scaler_object.transform(X_train)\n",
    "scaled_X_test = scaler_object.transform(X_test)"
   ]
  },
  {
   "cell_type": "code",
   "execution_count": 32,
   "id": "3c61a67e-2ae5-46cd-af55-03044c8c1358",
   "metadata": {
    "tags": []
   },
   "outputs": [
    {
     "data": {
      "text/plain": [
       "array([[4.44850688e-01, 5.14130449e-01, 2.18194638e-01, 8.50172258e-01],\n",
       "       [6.53339968e-01, 5.82655745e-01, 9.93242398e-02, 8.17696322e-01],\n",
       "       [4.81846700e-01, 6.69377018e-01, 3.61193167e-01, 7.63368407e-01],\n",
       "       ...,\n",
       "       [4.11050776e-04, 8.63104170e-01, 2.34046756e-01, 3.74261253e-01],\n",
       "       [2.58284115e-01, 6.16029366e-01, 2.33861752e-01, 7.02643151e-01],\n",
       "       [2.65661395e-01, 2.44444278e-01, 7.20316361e-01, 7.44775785e-01]])"
      ]
     },
     "execution_count": 32,
     "metadata": {},
     "output_type": "execute_result"
    }
   ],
   "source": [
    "scaled_X_train"
   ]
  },
  {
   "cell_type": "code",
   "execution_count": 23,
   "id": "226d01ba-3374-4088-8b3b-6ffed15d934e",
   "metadata": {
    "tags": []
   },
   "outputs": [
    {
     "data": {
      "text/plain": [
       "array([[0.62098955, 0.75284662, 0.21900753, 0.5730998 ],\n",
       "       [0.48778602, 0.82175665, 0.09174727, 0.56211079],\n",
       "       [0.51158363, 0.77924916, 0.13830875, 0.50392598],\n",
       "       ...,\n",
       "       [0.76115065, 0.62415668, 0.27251204, 0.83616757],\n",
       "       [0.9047516 , 0.90329171, 0.03658247, 0.42267079],\n",
       "       [0.49296526, 0.86039507, 0.06714046, 0.1622583 ]])"
      ]
     },
     "execution_count": 23,
     "metadata": {},
     "output_type": "execute_result"
    }
   ],
   "source": [
    "scaled_X_test"
   ]
  },
  {
   "cell_type": "code",
   "execution_count": 33,
   "id": "d3d7f441-ef56-4069-a0f9-7d25d910b129",
   "metadata": {
    "tags": []
   },
   "outputs": [],
   "source": [
    "from keras.models import Sequential\n",
    "from keras.layers import Dense"
   ]
  },
  {
   "cell_type": "code",
   "execution_count": 35,
   "id": "62f33c84-a79a-4026-ab06-71d0a963a2a1",
   "metadata": {
    "tags": []
   },
   "outputs": [],
   "source": [
    "model = Sequential()\n",
    "\n",
    "model.add(Dense(4, input_dim=4, activation='relu'))\n",
    "model.add(Dense(8, activation='relu'))\n",
    "model.add(Dense(1, activation='sigmoid'))\n"
   ]
  },
  {
   "cell_type": "code",
   "execution_count": 36,
   "id": "f0ac509d-6ac9-4f4b-ad1d-646e2e6a8a66",
   "metadata": {
    "tags": []
   },
   "outputs": [],
   "source": [
    "model.compile(loss='binary_crossentropy',optimizer='adam', metrics=['accuracy'])"
   ]
  },
  {
   "cell_type": "code",
   "execution_count": 37,
   "id": "265d8bd4-68c8-49b6-88cb-ddabf9d0f2cc",
   "metadata": {
    "tags": []
   },
   "outputs": [
    {
     "name": "stdout",
     "output_type": "stream",
     "text": [
      "Epoch 1/50\n",
      "230/230 - 2s - 11ms/step - accuracy: 0.6921 - loss: 0.6107\n",
      "Epoch 2/50\n",
      "230/230 - 0s - 2ms/step - accuracy: 0.8139 - loss: 0.4913\n",
      "Epoch 3/50\n",
      "230/230 - 0s - 1ms/step - accuracy: 0.8466 - loss: 0.4183\n",
      "Epoch 4/50\n",
      "230/230 - 0s - 2ms/step - accuracy: 0.8727 - loss: 0.3708\n",
      "Epoch 5/50\n",
      "230/230 - 1s - 3ms/step - accuracy: 0.8760 - loss: 0.3380\n",
      "Epoch 6/50\n",
      "230/230 - 1s - 3ms/step - accuracy: 0.8999 - loss: 0.3057\n",
      "Epoch 7/50\n",
      "230/230 - 0s - 2ms/step - accuracy: 0.9021 - loss: 0.2832\n",
      "Epoch 8/50\n",
      "230/230 - 0s - 2ms/step - accuracy: 0.9129 - loss: 0.2597\n",
      "Epoch 9/50\n",
      "230/230 - 1s - 3ms/step - accuracy: 0.9238 - loss: 0.2423\n",
      "Epoch 10/50\n",
      "230/230 - 0s - 2ms/step - accuracy: 0.9336 - loss: 0.2266\n",
      "Epoch 11/50\n",
      "230/230 - 1s - 3ms/step - accuracy: 0.9336 - loss: 0.2113\n",
      "Epoch 12/50\n",
      "230/230 - 1s - 3ms/step - accuracy: 0.9369 - loss: 0.1977\n",
      "Epoch 13/50\n",
      "230/230 - 0s - 1ms/step - accuracy: 0.9434 - loss: 0.1860\n",
      "Epoch 14/50\n",
      "230/230 - 0s - 2ms/step - accuracy: 0.9423 - loss: 0.1753\n",
      "Epoch 15/50\n",
      "230/230 - 0s - 1ms/step - accuracy: 0.9478 - loss: 0.1654\n",
      "Epoch 16/50\n",
      "230/230 - 0s - 2ms/step - accuracy: 0.9489 - loss: 0.1566\n",
      "Epoch 17/50\n",
      "230/230 - 0s - 1ms/step - accuracy: 0.9445 - loss: 0.1488\n",
      "Epoch 18/50\n",
      "230/230 - 0s - 1ms/step - accuracy: 0.9489 - loss: 0.1401\n",
      "Epoch 19/50\n",
      "230/230 - 0s - 1ms/step - accuracy: 0.9489 - loss: 0.1322\n",
      "Epoch 20/50\n",
      "230/230 - 0s - 2ms/step - accuracy: 0.9510 - loss: 0.1241\n",
      "Epoch 21/50\n",
      "230/230 - 0s - 1ms/step - accuracy: 0.9554 - loss: 0.1161\n",
      "Epoch 22/50\n",
      "230/230 - 0s - 2ms/step - accuracy: 0.9532 - loss: 0.1131\n",
      "Epoch 23/50\n",
      "230/230 - 0s - 1ms/step - accuracy: 0.9587 - loss: 0.1059\n",
      "Epoch 24/50\n",
      "230/230 - 0s - 2ms/step - accuracy: 0.9641 - loss: 0.0990\n",
      "Epoch 25/50\n",
      "230/230 - 0s - 2ms/step - accuracy: 0.9597 - loss: 0.0951\n",
      "Epoch 26/50\n",
      "230/230 - 0s - 1ms/step - accuracy: 0.9608 - loss: 0.0907\n",
      "Epoch 27/50\n",
      "230/230 - 0s - 1ms/step - accuracy: 0.9652 - loss: 0.0861\n",
      "Epoch 28/50\n",
      "230/230 - 0s - 1ms/step - accuracy: 0.9663 - loss: 0.0797\n",
      "Epoch 29/50\n",
      "230/230 - 0s - 1ms/step - accuracy: 0.9684 - loss: 0.0750\n",
      "Epoch 30/50\n",
      "230/230 - 0s - 2ms/step - accuracy: 0.9717 - loss: 0.0699\n",
      "Epoch 31/50\n",
      "230/230 - 0s - 1ms/step - accuracy: 0.9717 - loss: 0.0668\n",
      "Epoch 32/50\n",
      "230/230 - 0s - 2ms/step - accuracy: 0.9717 - loss: 0.0651\n",
      "Epoch 33/50\n",
      "230/230 - 1s - 3ms/step - accuracy: 0.9684 - loss: 0.0620\n",
      "Epoch 34/50\n",
      "230/230 - 0s - 2ms/step - accuracy: 0.9750 - loss: 0.0593\n",
      "Epoch 35/50\n",
      "230/230 - 0s - 2ms/step - accuracy: 0.9782 - loss: 0.0587\n",
      "Epoch 36/50\n",
      "230/230 - 0s - 1ms/step - accuracy: 0.9739 - loss: 0.0560\n",
      "Epoch 37/50\n",
      "230/230 - 0s - 2ms/step - accuracy: 0.9815 - loss: 0.0520\n",
      "Epoch 38/50\n",
      "230/230 - 0s - 1ms/step - accuracy: 0.9815 - loss: 0.0516\n",
      "Epoch 39/50\n",
      "230/230 - 0s - 2ms/step - accuracy: 0.9793 - loss: 0.0497\n",
      "Epoch 40/50\n",
      "230/230 - 1s - 3ms/step - accuracy: 0.9782 - loss: 0.0497\n",
      "Epoch 41/50\n",
      "230/230 - 0s - 2ms/step - accuracy: 0.9837 - loss: 0.0480\n",
      "Epoch 42/50\n",
      "230/230 - 1s - 2ms/step - accuracy: 0.9804 - loss: 0.0477\n",
      "Epoch 43/50\n",
      "230/230 - 0s - 2ms/step - accuracy: 0.9804 - loss: 0.0447\n",
      "Epoch 44/50\n",
      "230/230 - 1s - 3ms/step - accuracy: 0.9804 - loss: 0.0453\n",
      "Epoch 45/50\n",
      "230/230 - 0s - 1ms/step - accuracy: 0.9793 - loss: 0.0471\n",
      "Epoch 46/50\n",
      "230/230 - 0s - 2ms/step - accuracy: 0.9837 - loss: 0.0427\n",
      "Epoch 47/50\n",
      "230/230 - 0s - 2ms/step - accuracy: 0.9815 - loss: 0.0406\n",
      "Epoch 48/50\n",
      "230/230 - 0s - 2ms/step - accuracy: 0.9793 - loss: 0.0440\n",
      "Epoch 49/50\n",
      "230/230 - 1s - 2ms/step - accuracy: 0.9815 - loss: 0.0401\n",
      "Epoch 50/50\n",
      "230/230 - 0s - 2ms/step - accuracy: 0.9859 - loss: 0.0389\n"
     ]
    },
    {
     "data": {
      "text/plain": [
       "<keras.src.callbacks.history.History at 0x1c7e5663e50>"
      ]
     },
     "execution_count": 37,
     "metadata": {},
     "output_type": "execute_result"
    }
   ],
   "source": [
    "model.fit(scaled_X_train, y_train, batch_size=4, epochs=50, verbose=2)"
   ]
  },
  {
   "cell_type": "code",
   "execution_count": 43,
   "id": "3c858b4a-8be6-4335-9ce6-b94507d8baed",
   "metadata": {
    "tags": []
   },
   "outputs": [
    {
     "name": "stdout",
     "output_type": "stream",
     "text": [
      "\u001b[1m15/15\u001b[0m \u001b[32m━━━━━━━━━━━━━━━━━━━━\u001b[0m\u001b[37m\u001b[0m \u001b[1m0s\u001b[0m 2ms/step \n"
     ]
    }
   ],
   "source": [
    "predictions=model.predict(scaled_X_test)"
   ]
  },
  {
   "cell_type": "code",
   "execution_count": 45,
   "id": "86795b73-bcf4-48d1-96bb-009c0e58a6d8",
   "metadata": {
    "tags": []
   },
   "outputs": [],
   "source": [
    "class_labels = (predictions > 0.5).astype(\"int32\")\n",
    "#class_labels"
   ]
  },
  {
   "cell_type": "code",
   "execution_count": 47,
   "id": "ddf25248-0ec4-4ff3-acb7-6522c96e37d2",
   "metadata": {
    "tags": []
   },
   "outputs": [
    {
     "data": {
      "text/plain": [
       "['loss', 'compile_metrics']"
      ]
     },
     "execution_count": 47,
     "metadata": {},
     "output_type": "execute_result"
    }
   ],
   "source": [
    "model.metrics_names"
   ]
  },
  {
   "cell_type": "code",
   "execution_count": 51,
   "id": "86540981-e09d-4d97-b39f-3b4cb1051558",
   "metadata": {
    "tags": []
   },
   "outputs": [],
   "source": [
    "from sklearn.metrics import confusion_matrix, classification_report"
   ]
  },
  {
   "cell_type": "code",
   "execution_count": 54,
   "id": "ebef801c-fe4b-4a2c-bcf5-d51a15dca1c9",
   "metadata": {
    "tags": []
   },
   "outputs": [
    {
     "data": {
      "text/plain": [
       "array([[253,   4],\n",
       "       [  2, 194]], dtype=int64)"
      ]
     },
     "execution_count": 54,
     "metadata": {},
     "output_type": "execute_result"
    }
   ],
   "source": [
    "confusion_matrix(y_test, class_labels)"
   ]
  },
  {
   "cell_type": "code",
   "execution_count": 56,
   "id": "3ff22410-3e8a-4c84-b129-c4fb65206dcb",
   "metadata": {
    "tags": []
   },
   "outputs": [
    {
     "name": "stdout",
     "output_type": "stream",
     "text": [
      "              precision    recall  f1-score   support\n",
      "\n",
      "         0.0       0.99      0.98      0.99       257\n",
      "         1.0       0.98      0.99      0.98       196\n",
      "\n",
      "    accuracy                           0.99       453\n",
      "   macro avg       0.99      0.99      0.99       453\n",
      "weighted avg       0.99      0.99      0.99       453\n",
      "\n"
     ]
    }
   ],
   "source": [
    "print(classification_report(y_test, class_labels))"
   ]
  },
  {
   "cell_type": "code",
   "execution_count": 57,
   "id": "0c5ff08d-caec-407b-b3e7-c358354c158d",
   "metadata": {
    "tags": []
   },
   "outputs": [
    {
     "name": "stderr",
     "output_type": "stream",
     "text": [
      "WARNING:absl:You are saving your model as an HDF5 file via `model.save()` or `keras.saving.save_model(model)`. This file format is considered legacy. We recommend using instead the native Keras format, e.g. `model.save('my_model.keras')` or `keras.saving.save_model(model, 'my_model.keras')`. \n"
     ]
    }
   ],
   "source": [
    "model.save('mysupermodel.h5')"
   ]
  },
  {
   "cell_type": "code",
   "execution_count": 59,
   "id": "488fb02e-b28c-49ed-b297-ae3ae7f446fe",
   "metadata": {
    "tags": []
   },
   "outputs": [],
   "source": [
    "from keras.models import load_model"
   ]
  },
  {
   "cell_type": "code",
   "execution_count": 60,
   "id": "267a886a-26d2-46ec-adc4-1acbde8c3e77",
   "metadata": {
    "tags": []
   },
   "outputs": [
    {
     "name": "stderr",
     "output_type": "stream",
     "text": [
      "WARNING:absl:Compiled the loaded model, but the compiled metrics have yet to be built. `model.compile_metrics` will be empty until you train or evaluate the model.\n"
     ]
    }
   ],
   "source": [
    "newmodel = load_model('mysupermodel.h5')"
   ]
  },
  {
   "cell_type": "code",
   "execution_count": 61,
   "id": "7c42a857-3983-4132-a337-48cf96c268a6",
   "metadata": {
    "tags": []
   },
   "outputs": [
    {
     "data": {
      "text/html": [
       "<pre style=\"white-space:pre;overflow-x:auto;line-height:normal;font-family:Menlo,'DejaVu Sans Mono',consolas,'Courier New',monospace\"><span style=\"font-weight: bold\">Model: \"sequential_1\"</span>\n",
       "</pre>\n"
      ],
      "text/plain": [
       "\u001b[1mModel: \"sequential_1\"\u001b[0m\n"
      ]
     },
     "metadata": {},
     "output_type": "display_data"
    },
    {
     "data": {
      "text/html": [
       "<pre style=\"white-space:pre;overflow-x:auto;line-height:normal;font-family:Menlo,'DejaVu Sans Mono',consolas,'Courier New',monospace\">┏━━━━━━━━━━━━━━━━━━━━━━━━━━━━━━━━━━━━━━┳━━━━━━━━━━━━━━━━━━━━━━━━━━━━━┳━━━━━━━━━━━━━━━━━┓\n",
       "┃<span style=\"font-weight: bold\"> Layer (type)                         </span>┃<span style=\"font-weight: bold\"> Output Shape                </span>┃<span style=\"font-weight: bold\">         Param # </span>┃\n",
       "┡━━━━━━━━━━━━━━━━━━━━━━━━━━━━━━━━━━━━━━╇━━━━━━━━━━━━━━━━━━━━━━━━━━━━━╇━━━━━━━━━━━━━━━━━┩\n",
       "│ dense_3 (<span style=\"color: #0087ff; text-decoration-color: #0087ff\">Dense</span>)                      │ (<span style=\"color: #00d7ff; text-decoration-color: #00d7ff\">None</span>, <span style=\"color: #00af00; text-decoration-color: #00af00\">4</span>)                   │              <span style=\"color: #00af00; text-decoration-color: #00af00\">20</span> │\n",
       "├──────────────────────────────────────┼─────────────────────────────┼─────────────────┤\n",
       "│ dense_4 (<span style=\"color: #0087ff; text-decoration-color: #0087ff\">Dense</span>)                      │ (<span style=\"color: #00d7ff; text-decoration-color: #00d7ff\">None</span>, <span style=\"color: #00af00; text-decoration-color: #00af00\">8</span>)                   │              <span style=\"color: #00af00; text-decoration-color: #00af00\">40</span> │\n",
       "├──────────────────────────────────────┼─────────────────────────────┼─────────────────┤\n",
       "│ dense_5 (<span style=\"color: #0087ff; text-decoration-color: #0087ff\">Dense</span>)                      │ (<span style=\"color: #00d7ff; text-decoration-color: #00d7ff\">None</span>, <span style=\"color: #00af00; text-decoration-color: #00af00\">1</span>)                   │               <span style=\"color: #00af00; text-decoration-color: #00af00\">9</span> │\n",
       "└──────────────────────────────────────┴─────────────────────────────┴─────────────────┘\n",
       "</pre>\n"
      ],
      "text/plain": [
       "┏━━━━━━━━━━━━━━━━━━━━━━━━━━━━━━━━━━━━━━┳━━━━━━━━━━━━━━━━━━━━━━━━━━━━━┳━━━━━━━━━━━━━━━━━┓\n",
       "┃\u001b[1m \u001b[0m\u001b[1mLayer (type)                        \u001b[0m\u001b[1m \u001b[0m┃\u001b[1m \u001b[0m\u001b[1mOutput Shape               \u001b[0m\u001b[1m \u001b[0m┃\u001b[1m \u001b[0m\u001b[1m        Param #\u001b[0m\u001b[1m \u001b[0m┃\n",
       "┡━━━━━━━━━━━━━━━━━━━━━━━━━━━━━━━━━━━━━━╇━━━━━━━━━━━━━━━━━━━━━━━━━━━━━╇━━━━━━━━━━━━━━━━━┩\n",
       "│ dense_3 (\u001b[38;5;33mDense\u001b[0m)                      │ (\u001b[38;5;45mNone\u001b[0m, \u001b[38;5;34m4\u001b[0m)                   │              \u001b[38;5;34m20\u001b[0m │\n",
       "├──────────────────────────────────────┼─────────────────────────────┼─────────────────┤\n",
       "│ dense_4 (\u001b[38;5;33mDense\u001b[0m)                      │ (\u001b[38;5;45mNone\u001b[0m, \u001b[38;5;34m8\u001b[0m)                   │              \u001b[38;5;34m40\u001b[0m │\n",
       "├──────────────────────────────────────┼─────────────────────────────┼─────────────────┤\n",
       "│ dense_5 (\u001b[38;5;33mDense\u001b[0m)                      │ (\u001b[38;5;45mNone\u001b[0m, \u001b[38;5;34m1\u001b[0m)                   │               \u001b[38;5;34m9\u001b[0m │\n",
       "└──────────────────────────────────────┴─────────────────────────────┴─────────────────┘\n"
      ]
     },
     "metadata": {},
     "output_type": "display_data"
    },
    {
     "data": {
      "text/html": [
       "<pre style=\"white-space:pre;overflow-x:auto;line-height:normal;font-family:Menlo,'DejaVu Sans Mono',consolas,'Courier New',monospace\"><span style=\"font-weight: bold\"> Total params: </span><span style=\"color: #00af00; text-decoration-color: #00af00\">71</span> (288.00 B)\n",
       "</pre>\n"
      ],
      "text/plain": [
       "\u001b[1m Total params: \u001b[0m\u001b[38;5;34m71\u001b[0m (288.00 B)\n"
      ]
     },
     "metadata": {},
     "output_type": "display_data"
    },
    {
     "data": {
      "text/html": [
       "<pre style=\"white-space:pre;overflow-x:auto;line-height:normal;font-family:Menlo,'DejaVu Sans Mono',consolas,'Courier New',monospace\"><span style=\"font-weight: bold\"> Trainable params: </span><span style=\"color: #00af00; text-decoration-color: #00af00\">69</span> (276.00 B)\n",
       "</pre>\n"
      ],
      "text/plain": [
       "\u001b[1m Trainable params: \u001b[0m\u001b[38;5;34m69\u001b[0m (276.00 B)\n"
      ]
     },
     "metadata": {},
     "output_type": "display_data"
    },
    {
     "data": {
      "text/html": [
       "<pre style=\"white-space:pre;overflow-x:auto;line-height:normal;font-family:Menlo,'DejaVu Sans Mono',consolas,'Courier New',monospace\"><span style=\"font-weight: bold\"> Non-trainable params: </span><span style=\"color: #00af00; text-decoration-color: #00af00\">0</span> (0.00 B)\n",
       "</pre>\n"
      ],
      "text/plain": [
       "\u001b[1m Non-trainable params: \u001b[0m\u001b[38;5;34m0\u001b[0m (0.00 B)\n"
      ]
     },
     "metadata": {},
     "output_type": "display_data"
    },
    {
     "data": {
      "text/html": [
       "<pre style=\"white-space:pre;overflow-x:auto;line-height:normal;font-family:Menlo,'DejaVu Sans Mono',consolas,'Courier New',monospace\"><span style=\"font-weight: bold\"> Optimizer params: </span><span style=\"color: #00af00; text-decoration-color: #00af00\">2</span> (12.00 B)\n",
       "</pre>\n"
      ],
      "text/plain": [
       "\u001b[1m Optimizer params: \u001b[0m\u001b[38;5;34m2\u001b[0m (12.00 B)\n"
      ]
     },
     "metadata": {},
     "output_type": "display_data"
    }
   ],
   "source": [
    "newmodel.summary()"
   ]
  },
  {
   "cell_type": "code",
   "execution_count": null,
   "id": "e45db82a-9962-478e-a64a-39562ac4c74c",
   "metadata": {},
   "outputs": [],
   "source": []
  }
 ],
 "metadata": {
  "kernelspec": {
   "display_name": "Python 3 (ipykernel)",
   "language": "python",
   "name": "python3"
  },
  "language_info": {
   "codemirror_mode": {
    "name": "ipython",
    "version": 3
   },
   "file_extension": ".py",
   "mimetype": "text/x-python",
   "name": "python",
   "nbconvert_exporter": "python",
   "pygments_lexer": "ipython3",
   "version": "3.11.4"
  }
 },
 "nbformat": 4,
 "nbformat_minor": 5
}
